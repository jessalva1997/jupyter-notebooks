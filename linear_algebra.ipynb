{
  "nbformat": 4,
  "nbformat_minor": 0,
  "metadata": {
    "colab": {
      "name": "linear-algebra.ipynb",
      "provenance": [],
      "collapsed_sections": [],
      "include_colab_link": true
    },
    "kernelspec": {
      "name": "python3",
      "display_name": "Python 3"
    }
  },
  "cells": [
    {
      "cell_type": "markdown",
      "metadata": {
        "id": "view-in-github",
        "colab_type": "text"
      },
      "source": [
        "<a href=\"https://colab.research.google.com/github/jessalva1997/jupyter-notebooks/blob/main/linear_algebra.ipynb\" target=\"_parent\"><img src=\"https://colab.research.google.com/assets/colab-badge.svg\" alt=\"Open In Colab\"/></a>"
      ]
    },
    {
      "cell_type": "code",
      "metadata": {
        "id": "xxrgZDPcmozz"
      },
      "source": [
        "import numpy as np"
      ],
      "execution_count": 5,
      "outputs": []
    },
    {
      "cell_type": "code",
      "metadata": {
        "id": "bbIdLmz4mzoA"
      },
      "source": [
        "first_list = [ 1, 2, 3 , 4]\n",
        "\n",
        "first_list_nparray = np.array(first_list)"
      ],
      "execution_count": 6,
      "outputs": []
    },
    {
      "cell_type": "code",
      "metadata": {
        "id": "n3RTHL2GoxMi",
        "outputId": "4222c873-84d9-4303-89e3-157f2557f9a8",
        "colab": {
          "base_uri": "https://localhost:8080/"
        }
      },
      "source": [
        "np.matmul(first_list_nparray, first_list_nparray.T)"
      ],
      "execution_count": 7,
      "outputs": [
        {
          "output_type": "execute_result",
          "data": {
            "text/plain": [
              "30"
            ]
          },
          "metadata": {
            "tags": []
          },
          "execution_count": 7
        }
      ]
    },
    {
      "cell_type": "code",
      "metadata": {
        "id": "UACUsUdDo87g",
        "outputId": "b4cb2f43-5a68-4309-dba0-3bcb6b448621",
        "colab": {
          "base_uri": "https://localhost:8080/"
        }
      },
      "source": [
        "np.eye( first_list_nparray.size )*first_list_nparray"
      ],
      "execution_count": 12,
      "outputs": [
        {
          "output_type": "execute_result",
          "data": {
            "text/plain": [
              "array([[1., 0., 0., 0.],\n",
              "       [0., 2., 0., 0.],\n",
              "       [0., 0., 3., 0.],\n",
              "       [0., 0., 0., 4.]])"
            ]
          },
          "metadata": {
            "tags": []
          },
          "execution_count": 12
        }
      ]
    },
    {
      "cell_type": "markdown",
      "metadata": {
        "id": "Oe52-7sTqBcc"
      },
      "source": [
        "# (AB)<sup>T</sup> = B<sup>T</sup> A<sup>T</sup>"
      ]
    },
    {
      "cell_type": "code",
      "metadata": {
        "id": "JgfEKOWZpKtE"
      },
      "source": [
        "AList = [[18, 17, 16],[12, 11, 10],[ 6,  5,  4]]\n",
        "A = np.array(AList)\n",
        "\n",
        "BList = [[ 1, 2 ,3  ],[ 7,  8,  9 ],[13 ,14 ,15]]\n",
        "B = np.array(BList)"
      ],
      "execution_count": 19,
      "outputs": []
    },
    {
      "cell_type": "code",
      "metadata": {
        "id": "Xb-0OBGWwgb7"
      },
      "source": [
        "AB_transpose = np.matmul(A,B).T\n",
        "\n",
        "B_transpose_A_transpose = np.matmul(B.T,A.T)"
      ],
      "execution_count": 24,
      "outputs": []
    },
    {
      "cell_type": "code",
      "metadata": {
        "id": "Wu2idGz5w7JZ"
      },
      "source": [
        "assert np.equal(AB_transpose,B_transpose_A_transpose).all() == True"
      ],
      "execution_count": 28,
      "outputs": []
    },
    {
      "cell_type": "code",
      "metadata": {
        "id": "QDwOCZ-IxjHi"
      },
      "source": [
        ""
      ],
      "execution_count": null,
      "outputs": []
    }
  ]
}